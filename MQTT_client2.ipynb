{
 "cells": [
  {
   "cell_type": "code",
   "execution_count": 3,
   "metadata": {
    "collapsed": true,
    "pycharm": {
     "name": "#%%\n"
    }
   },
   "outputs": [
    {
     "name": "stdout",
     "output_type": "stream",
     "text": [
      "Requirement already satisfied: paho-mqtt in /Library/Frameworks/Python.framework/Versions/3.10/lib/python3.10/site-packages (1.6.1)\r\n",
      "\u001B[33mWARNING: You are using pip version 22.0.4; however, version 22.3 is available.\r\n",
      "You should consider upgrading via the '/Library/Frameworks/Python.framework/Versions/3.10/bin/python3 -m pip install --upgrade pip' command.\u001B[0m\u001B[33m\r\n",
      "\u001B[0m"
     ]
    }
   ],
   "source": [
    "import random\n",
    "\n",
    "!pip3 install paho-mqtt\n",
    "import paho.mqtt.client as mqtt"
   ]
  },
  {
   "cell_type": "code",
   "execution_count": 4,
   "outputs": [
    {
     "name": "stdout",
     "output_type": "stream",
     "text": [
      "1842019 -5173296\n",
      "1842021 -5173295\n",
      "1842023 -5173296\n",
      "1842019 -5173295\n",
      "1842024 -5173297\n",
      "1842022 -5173297\n",
      "1842024 -5173298\n",
      "1842021 -5173297\n",
      "1842022 -5173296\n",
      "1842024 -5173296\n"
     ]
    },
    {
     "ename": "KeyboardInterrupt",
     "evalue": "",
     "output_type": "error",
     "traceback": [
      "\u001B[0;31m---------------------------------------------------------------------------\u001B[0m",
      "\u001B[0;31mKeyboardInterrupt\u001B[0m                         Traceback (most recent call last)",
      "Input \u001B[0;32mIn [4]\u001B[0m, in \u001B[0;36m<cell line: 10>\u001B[0;34m()\u001B[0m\n\u001B[1;32m     14\u001B[0m message\u001B[38;5;241m=\u001B[39m{\u001B[38;5;124m\"\u001B[39m\u001B[38;5;124mx\u001B[39m\u001B[38;5;124m\"\u001B[39m:x,\u001B[38;5;124m\"\u001B[39m\u001B[38;5;124my\u001B[39m\u001B[38;5;124m\"\u001B[39m:y}\n\u001B[1;32m     15\u001B[0m mqtt_client\u001B[38;5;241m.\u001B[39mpublish(\u001B[38;5;124m\"\u001B[39m\u001B[38;5;124mIoT_Project/coordinates\u001B[39m\u001B[38;5;124m\"\u001B[39m,payload\u001B[38;5;241m=\u001B[39mjson\u001B[38;5;241m.\u001B[39mdumps(message))\n\u001B[0;32m---> 16\u001B[0m \u001B[43mtime\u001B[49m\u001B[38;5;241;43m.\u001B[39;49m\u001B[43msleep\u001B[49m\u001B[43m(\u001B[49m\u001B[38;5;241;43m2\u001B[39;49m\u001B[43m)\u001B[49m\n",
      "\u001B[0;31mKeyboardInterrupt\u001B[0m: "
     ]
    }
   ],
   "source": [
    "import time\n",
    "import json\n",
    "\n",
    "#MQTT connection\n",
    "mqtt_broker = \"test.mosquitto.org\"\n",
    "mqtt_client = mqtt.Client(\"esp2\")\n",
    "mqtt_client.connect(mqtt_broker)\n",
    "\n",
    "#Publish message of coordinates\n",
    "for i in range(0,50,1):\n",
    "    x=random.randint(1842019,1842024)\n",
    "    y=random.randint(-5173298,-5173295)\n",
    "    print(x,y)\n",
    "    message={\"x\":x,\"y\":y}\n",
    "    mqtt_client.publish(\"IoT_Project/coordinates\",payload=json.dumps(message))\n",
    "    time.sleep(2)"
   ],
   "metadata": {
    "collapsed": false,
    "pycharm": {
     "name": "#%%\n"
    }
   }
  }
 ],
 "metadata": {
  "kernelspec": {
   "display_name": "Python 3",
   "language": "python",
   "name": "python3"
  },
  "language_info": {
   "codemirror_mode": {
    "name": "ipython",
    "version": 2
   },
   "file_extension": ".py",
   "mimetype": "text/x-python",
   "name": "python",
   "nbconvert_exporter": "python",
   "pygments_lexer": "ipython2",
   "version": "2.7.6"
  }
 },
 "nbformat": 4,
 "nbformat_minor": 0
}